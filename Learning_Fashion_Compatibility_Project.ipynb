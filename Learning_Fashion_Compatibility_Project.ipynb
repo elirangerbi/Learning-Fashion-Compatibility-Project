{
  "nbformat": 4,
  "nbformat_minor": 0,
  "metadata": {
    "colab": {
      "name": "Learning Fashion Compatibility Project.ipynb",
      "provenance": [],
      "collapsed_sections": [],
      "toc_visible": true,
      "authorship_tag": "ABX9TyPt1WcgFabJ0vgBxIst/QIr",
      "include_colab_link": true
    },
    "kernelspec": {
      "name": "python3",
      "display_name": "Python 3"
    }
  },
  "cells": [
    {
      "cell_type": "markdown",
      "metadata": {
        "id": "view-in-github",
        "colab_type": "text"
      },
      "source": [
        "<a href=\"https://colab.research.google.com/github/elirangerbi/Learning-Fashion-Compatibility-Project/blob/main/Learning_Fashion_Compatibility_Project.ipynb\" target=\"_parent\"><img src=\"https://colab.research.google.com/assets/colab-badge.svg\" alt=\"Open In Colab\"/></a>"
      ]
    },
    {
      "cell_type": "code",
      "metadata": {
        "id": "f1BnH9ANOtb3",
        "outputId": "7d12c6c9-6a97-48fa-ff07-5028414b0f00",
        "colab": {
          "base_uri": "https://localhost:8080/",
          "height": 471
        }
      },
      "source": [
        "from IPython.display import IFrame\n",
        "IFrame('14 - Asi - Learning Fashion Compatibility_.pdf', width=1000, height=450)"
      ],
      "execution_count": 10,
      "outputs": [
        {
          "output_type": "execute_result",
          "data": {
            "text/html": [
              "\n",
              "        <iframe\n",
              "            width=\"1000\"\n",
              "            height=\"450\"\n",
              "            src=\"14 - Asi - Learning Fashion Compatibility_.pdf\"\n",
              "            frameborder=\"0\"\n",
              "            allowfullscreen\n",
              "        ></iframe>\n",
              "        "
            ],
            "text/plain": [
              "<IPython.lib.display.IFrame at 0x7f2ad98602b0>"
            ]
          },
          "metadata": {
            "tags": []
          },
          "execution_count": 10
        }
      ]
    },
    {
      "cell_type": "code",
      "metadata": {
        "id": "GYURUJOxO4uB",
        "outputId": "4f799d2b-ff6d-4413-8c38-0ab163fe4260",
        "colab": {
          "base_uri": "https://localhost:8080/"
        }
      },
      "source": [
        "print(\"Hello1\")"
      ],
      "execution_count": null,
      "outputs": [
        {
          "output_type": "stream",
          "text": [
            "Hello1\n"
          ],
          "name": "stdout"
        }
      ]
    }
  ]
}