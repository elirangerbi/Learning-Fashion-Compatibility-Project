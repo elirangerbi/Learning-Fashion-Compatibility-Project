{
  "nbformat": 4,
  "nbformat_minor": 0,
  "metadata": {
    "colab": {
      "name": "Copy of Learning Fashion Compatibility Project.ipynb",
      "provenance": [],
      "collapsed_sections": [],
      "toc_visible": true,
      "authorship_tag": "ABX9TyP5WKG+c/1YBTdY71520TQO",
      "include_colab_link": true
    },
    "kernelspec": {
      "name": "python3",
      "display_name": "Python 3"
    }
  },
  "cells": [
    {
      "cell_type": "markdown",
      "metadata": {
        "id": "view-in-github",
        "colab_type": "text"
      },
      "source": [
        "<a href=\"https://colab.research.google.com/github/elirangerbi/Learning-Fashion-Compatibility-Project/blob/main/Learning_Fashion_Compatibility_Project.ipynb\" target=\"_parent\"><img src=\"https://colab.research.google.com/assets/colab-badge.svg\" alt=\"Open In Colab\"/></a>"
      ]
    },
    {
      "cell_type": "code",
      "metadata": {
        "id": "sxKo4R3qheoN"
      },
      "source": [
        "!pip install -U -q PyDrive\n",
        "!pip install gdown"
      ],
      "execution_count": null,
      "outputs": []
    },
    {
      "cell_type": "code",
      "metadata": {
        "id": "opWUolKdlhLK",
        "outputId": "cc0bcb0b-c7a5-4cf9-cd57-ffa9cdcbc011",
        "colab": {
          "base_uri": "https://localhost:8080/"
        }
      },
      "source": [
        "# write stdout and pipe to extract\n",
        "!gdown https://drive.google.com/uc?id=1my1isXGGo8K1nyGeC2tPoXvDcXrRtRQN -O - --quiet | tar zxvf -"
      ],
      "execution_count": 2,
      "outputs": [
        {
          "output_type": "stream",
          "text": [
            "train_no_dup.json\n",
            "fill_in_blank_test.json\n",
            "test_no_dup.json\n",
            "valid_no_dup.json\n",
            "fashion_compatibility_prediction.txt\n"
          ],
          "name": "stdout"
        }
      ]
    },
    {
      "cell_type": "code",
      "metadata": {
        "id": "SL2QieQDINli",
        "outputId": "816a1242-f786-4caf-cd80-26fea1a7a181",
        "colab": {
          "base_uri": "https://localhost:8080/"
        }
      },
      "source": [
        "f = open(\"fashion_compatibility_prediction.txt\", \"r\")\n",
        "print(f.readline())"
      ],
      "execution_count": 3,
      "outputs": [
        {
          "output_type": "stream",
          "text": [
            "1 119704139_1 119704139_2 119704139_3 119704139_4 119704139_5\n",
            "\n"
          ],
          "name": "stdout"
        }
      ]
    }
  ]
}